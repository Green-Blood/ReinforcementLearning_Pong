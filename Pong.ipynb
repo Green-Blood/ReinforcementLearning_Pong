{
 "cells": [
  {
   "cell_type": "code",
   "execution_count": 8,
   "metadata": {},
   "outputs": [],
   "source": [
    "# Importing the required packages\n",
    "import numpy as np\n",
    "import gym\n",
    "from gym.wrappers import GrayScaleObservation\n",
    "from gym.wrappers import ResizeObservation\n",
    "from gym.wrappers import FrameStack\n",
    "from qnetwork import QNetwork\n",
    "import ale_py\n",
    "\n",
    "import torch\n",
    "from torch import nn\n",
    "from torch.functional import F\n",
    "\n",
    "from matplotlib import pyplot as plt\n",
    "from collections import deque\n",
    "import sys\n",
    "import importlib"
   ]
  },
  {
   "cell_type": "code",
   "execution_count": 9,
   "metadata": {},
   "outputs": [],
   "source": [
    "# Spawning the environment\n",
    "env = gym.make('ALE/Pong-v5', render_mode='rgb_array')"
   ]
  },
  {
   "cell_type": "code",
   "execution_count": 10,
   "metadata": {},
   "outputs": [
    {
     "name": "stdout",
     "output_type": "stream",
     "text": [
      "Press interrupt to stop execution\n"
     ]
    },
    {
     "name": "stderr",
     "output_type": "stream",
     "text": [
      "/opt/homebrew/Caskroom/miniconda/base/lib/python3.10/site-packages/gym/utils/passive_env_checker.py:233: DeprecationWarning: `np.bool8` is a deprecated alias for `np.bool_`.  (Deprecated NumPy 1.24)\n",
      "  if not isinstance(terminated, (bool, np.bool8)):\n"
     ]
    },
    {
     "name": "stdout",
     "output_type": "stream",
     "text": [
      "Total Reward: -107.0\n"
     ]
    }
   ],
   "source": [
    "# Testing the environment \n",
    "done = True\n",
    "print('Press interrupt to stop execution')\n",
    "rewards = 0.0\n",
    "try:\n",
    "    for step in range(5000):\n",
    "        if done:\n",
    "            state = env.reset()\n",
    "        state, reward, interupted, terminated, info = env.step(env.action_space.sample())\n",
    "        rewards += reward\n",
    "        done = interupted or terminated\n",
    "except KeyboardInterrupt:\n",
    "       print('Execution Interrupted.')\n",
    "finally:\n",
    "    env.close()\n",
    "print('Total Reward:', rewards)\n",
    "\n",
    "# Structure the environment for processing\n",
    "env = GrayScaleObservation(env)\n",
    "env = ResizeObservation(env, 84)\n",
    "env = FrameStack(env, 4)"
   ]
  },
  {
   "cell_type": "code",
   "execution_count": 11,
   "metadata": {},
   "outputs": [],
   "source": [
    "# Initialize the Q-Network\n",
    "import math\n",
    "\n",
    "\n",
    "q_net = QNetwork(num_channels=4, num_actions=env.action_space.n)\n",
    "\n",
    "# Define the optimizer and loss function\n",
    "optimizer = torch.optim.Adam(q_net.parameters(), lr=0.0001)\n",
    "loss_fn = nn.MSELoss()\n",
    "\n",
    "# Initialize the replay buffer\n",
    "replay_buffer = deque(maxlen=100000)\n",
    "\n",
    "# Initialize hyperparameters\n",
    "epsilon_start = 1.0\n",
    "epsilon_end = 0.02\n",
    "epsilon_decay = 1000000\n",
    "batch_size = 32\n",
    "gamma = 0.99\n",
    "update_freq = 10000\n",
    "num_episodes = 200\n",
    "step = 0\n",
    "epsilon_by_frame = lambda frame_idx: epsilon_end + (epsilon_start - epsilon_end) * math.exp(-1. * frame_idx / epsilon_decay)\n",
    "device = torch.device(\"cuda\" if torch.cuda.is_available() else \"cpu\")"
   ]
  },
  {
   "cell_type": "code",
   "execution_count": 12,
   "metadata": {},
   "outputs": [
    {
     "ename": "NameError",
     "evalue": "name 'frame_idx' is not defined",
     "output_type": "error",
     "traceback": [
      "\u001b[0;31m---------------------------------------------------------------------------\u001b[0m",
      "\u001b[0;31mNameError\u001b[0m                                 Traceback (most recent call last)",
      "Cell \u001b[0;32mIn[12], line 8\u001b[0m\n\u001b[1;32m      5\u001b[0m total_reward \u001b[39m=\u001b[39m \u001b[39m0\u001b[39m\n\u001b[1;32m      6\u001b[0m \u001b[39mwhile\u001b[39;00m \u001b[39mnot\u001b[39;00m done:\n\u001b[0;32m----> 8\u001b[0m     epsilon \u001b[39m=\u001b[39m epsilon_by_frame(frame_idx)\n\u001b[1;32m      9\u001b[0m     \u001b[39m# Choose action using epsilon-greedy policy\u001b[39;00m\n\u001b[1;32m     10\u001b[0m     \u001b[39mif\u001b[39;00m np\u001b[39m.\u001b[39mrandom\u001b[39m.\u001b[39muniform() \u001b[39m<\u001b[39m epsilon:\n",
      "\u001b[0;31mNameError\u001b[0m: name 'frame_idx' is not defined"
     ]
    }
   ],
   "source": [
    "# Training loop\n",
    "for episode in range(num_episodes):\n",
    "    obs = env.reset()\n",
    "    done = False\n",
    "    total_reward = 0\n",
    "    while not done:\n",
    "        \n",
    "        epsilon = epsilon_by_frame(frame_idx)\n",
    "        # Choose action using epsilon-greedy policy\n",
    "        if np.random.uniform() < epsilon:\n",
    "            action = env.action_space.sample()\n",
    "        else:\n",
    "            with torch.no_grad():\n",
    "                obs_tensor = torch.tensor(obs).unsqueeze(0).to(device)\n",
    "                action = q_net(obs_tensor).argmax().item()\n",
    "\n",
    "        # Take action and observe next state and reward\n",
    "        next_obs, reward, done, info = env.step(action)\n",
    "        total_reward += reward\n",
    "\n",
    "        # Store transition in replay buffer\n",
    "        replay_buffer.store_transition(obs, action, reward, next_obs, done)\n",
    "\n",
    "        # Sample mini-batch from replay buffer\n",
    "        obs_batch, action_batch, reward_batch, next_obs_batch, done_batch = replay_buffer.sample_batch(batch_size)\n",
    "\n",
    "        # Compute targets using Bellman equation\n",
    "        with torch.no_grad():\n",
    "            next_Q = q_net(torch.tensor(next_obs_batch).to(device)).max(dim=1)[0]\n",
    "            target_Q = torch.where(done_batch, torch.tensor(reward_batch).to(device), reward_batch + gamma * next_Q)\n",
    "\n",
    "        # Compute loss and update Q-network parameters\n",
    "        obs_batch_tensor = torch.tensor(obs_batch).to(device)\n",
    "        action_batch_tensor = torch.tensor(action_batch).unsqueeze(1).to(device)\n",
    "        Q = q_net(obs_batch_tensor).gather(1, action_batch_tensor)\n",
    "        loss = F.mse_loss(Q, target_Q.unsqueeze(1))\n",
    "        optimizer.zero_grad()\n",
    "        loss.backward()\n",
    "        optimizer.step()\n",
    "\n",
    "        obs = next_obs\n",
    "\n",
    "    # Decay epsilon\n",
    "    epsilon *= epsilon_decay\n",
    "\n",
    "    # Print total reward for episode\n",
    "    print(\"Episode {} total reward: {:.2f}\".format(episode+1, total_reward))\n",
    "\n",
    "    # Save model checkpoint every 100 episodes\n",
    "    if (episode+1) % 100 == 0:\n",
    "        torch.save(q_net.state_dict(), \"QNet_checkpoint_{}.pt\".format(episode+1))\n"
   ]
  }
 ],
 "metadata": {
  "kernelspec": {
   "display_name": "base",
   "language": "python",
   "name": "python3"
  },
  "language_info": {
   "codemirror_mode": {
    "name": "ipython",
    "version": 3
   },
   "file_extension": ".py",
   "mimetype": "text/x-python",
   "name": "python",
   "nbconvert_exporter": "python",
   "pygments_lexer": "ipython3",
   "version": "3.10.9"
  },
  "orig_nbformat": 4,
  "vscode": {
   "interpreter": {
    "hash": "e7cb1b9ae4d417fedf7f40a8eec98f7cfbd359e096bd857395a915f4609834ce"
   }
  }
 },
 "nbformat": 4,
 "nbformat_minor": 2
}
