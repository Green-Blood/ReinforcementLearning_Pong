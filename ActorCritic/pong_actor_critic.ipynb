{
 "cells": [
  {
   "cell_type": "code",
   "execution_count": 85,
   "metadata": {},
   "outputs": [],
   "source": [
    "import gym\n",
    "import torch\n",
    "import numpy as np\n",
    "\n",
    "from gym.wrappers import GrayScaleObservation\n",
    "from gym.wrappers import ResizeObservation\n",
    "from gym.wrappers import FrameStack\n",
    "from gym.wrappers import TransformObservation\n",
    "import ale_py\n",
    "\n",
    "import torch\n",
    "from torch import nn\n",
    "from torch.functional import F\n",
    "import torch.optim as optim \n",
    "\n",
    "from matplotlib import pyplot as plt\n",
    "from collections import deque\n",
    "import sys\n",
    "import importlib\n",
    "\n",
    "from collections import deque\n",
    "from dac_model import DACModel\n",
    "from torch.distributions import Categorical\n"
   ]
  },
  {
   "cell_type": "code",
   "execution_count": 86,
   "metadata": {},
   "outputs": [
    {
     "name": "stdout",
     "output_type": "stream",
     "text": [
      "Press interrupt to stop execution\n",
      "Total Reward: 0.0\n"
     ]
    }
   ],
   "source": [
    "env = gym.make('ALE/Pong-v5', render_mode='rgb_array')\n",
    "done = True\n",
    "print('Press interrupt to stop execution')\n",
    "rewards = 0.0\n",
    "try:\n",
    "    for step in range(5000):\n",
    "        if done:\n",
    "            state = env.reset()\n",
    "            state, reward, interupted, terminated, info = env.step(env.action_space.sample())\n",
    "            rewards += reward\n",
    "            done = interupted or terminated\n",
    "except KeyboardInterrupt:\n",
    "    print('Execution Interrupted.')\n",
    "finally:\n",
    "    env.close()\n",
    "print('Total Reward:', rewards)"
   ]
  },
  {
   "cell_type": "code",
   "execution_count": 87,
   "metadata": {},
   "outputs": [],
   "source": [
    "\n",
    "# Structure the environment for processing\n",
    "env = GrayScaleObservation(env) # Converts the state to grayscale\n",
    "env = TransformObservation(env, lambda x: x / 255.0)  # scale pixel values to range [0, 1]\n",
    "env = ResizeObservation(env, 84) # Resizes the state into a 84x84.\n",
    "env = FrameStack(env, 4) # Stacks 4 frames \n",
    "\n"
   ]
  },
  {
   "cell_type": "code",
   "execution_count": 88,
   "metadata": {},
   "outputs": [
    {
     "name": "stdout",
     "output_type": "stream",
     "text": [
      "torch.Size([4, 84, 84])\n"
     ]
    }
   ],
   "source": [
    "# Observation structure\n",
    "obs, _ = env.reset()\n",
    "obs = torch.Tensor(obs).squeeze()\n",
    "print(obs.shape)"
   ]
  },
  {
   "cell_type": "code",
   "execution_count": 89,
   "metadata": {},
   "outputs": [
    {
     "data": {
      "image/png": "[encoded data removed]",
      "text/plain": [
       "<Figure size 640x480 with 4 Axes>"
      ]
     },
     "metadata": {},
     "output_type": "display_data"
    }
   ],
   "source": [
    " # Plot the observation\n",
    "fig, axs = plt.subplots(2, 2)\n",
    "for idx, ax in enumerate(axs.flatten()):\n",
    "    ax.imshow(obs[idx])"
   ]
  },
  {
   "cell_type": "code",
   "execution_count": 90,
   "metadata": {},
   "outputs": [],
   "source": [
    "num_episodes = 1000\n",
    "batch_size = 32"
   ]
  },
  {
   "cell_type": "code",
   "execution_count": null,
   "metadata": {},
   "outputs": [],
   "source": []
  },
  {
   "cell_type": "code",
   "execution_count": 91,
   "metadata": {},
   "outputs": [
    {
     "ename": "TypeError",
     "evalue": "can only concatenate tuple (not \"list\") to tuple",
     "output_type": "error",
     "traceback": [
      "\u001b[0;31m---------------------------------------------------------------------------\u001b[0m",
      "\u001b[0;31mTypeError\u001b[0m                                 Traceback (most recent call last)",
      "Cell \u001b[0;32mIn[91], line 41\u001b[0m\n\u001b[1;32m     29\u001b[0m done \u001b[39m=\u001b[39m \u001b[39mFalse\u001b[39;00m\n\u001b[1;32m     30\u001b[0m \u001b[39mwhile\u001b[39;00m \u001b[39mnot\u001b[39;00m done:\n\u001b[1;32m     31\u001b[0m \n\u001b[1;32m     32\u001b[0m     \u001b[39m# Collect a trajectory of states, actions, and rewards using the current policy\u001b[39;00m\n\u001b[0;32m   (...)\u001b[0m\n\u001b[1;32m     39\u001b[0m \n\u001b[1;32m     40\u001b[0m     \u001b[39m# state_tensor = torch.tensor(state, dtype=torch.float32).unsqueeze(0)\u001b[39;00m\n\u001b[0;32m---> 41\u001b[0m     state_padded \u001b[39m=\u001b[39m state \u001b[39m+\u001b[39;49m [\u001b[39m0\u001b[39;49m]\u001b[39m*\u001b[39;49m(\u001b[39m4\u001b[39;49m\u001b[39m-\u001b[39;49m\u001b[39mlen\u001b[39;49m(state))  \u001b[39m# pad the state with zeros to make it of length 4\u001b[39;00m\n\u001b[1;32m     43\u001b[0m     state_tensor \u001b[39m=\u001b[39m torch\u001b[39m.\u001b[39mtensor(state_padded, dtype\u001b[39m=\u001b[39mtorch\u001b[39m.\u001b[39mfloat32)\u001b[39m.\u001b[39munsqueeze(\u001b[39m0\u001b[39m)\n\u001b[1;32m     44\u001b[0m     action_probs \u001b[39m=\u001b[39m model\u001b[39m.\u001b[39mactor(state_tensor)\u001b[39m.\u001b[39msqueeze(\u001b[39m0\u001b[39m)\n",
      "\u001b[0;31mTypeError\u001b[0m: can only concatenate tuple (not \"list\") to tuple"
     ]
    }
   ],
   "source": [
    "# Define the DAC model\n",
    "model = DACModel(num_channels=4, num_out=env.action_space.n)\n",
    "\n",
    "# Set the number of episodes and maximum score\n",
    "num_episodes = 10000\n",
    "max_score = 21\n",
    "\n",
    "# Define the discount factor\n",
    "gamma = 0.99\n",
    "\n",
    "# Define the optimizer and learning rate\n",
    "optimizer = torch.optim.Adam(model.parameters(), lr=0.0001)\n",
    "\n",
    "# Define the initial state\n",
    "state = env.reset()\n",
    "\n",
    "# Train the model\n",
    "for episode in range(num_episodes):\n",
    "\n",
    "    # Reset the environment and initialize the state\n",
    "    state = env.reset()\n",
    "\n",
    "    # Initialize the lists to store the trajectory\n",
    "    states = []\n",
    "    actions = []\n",
    "    rewards = []\n",
    "\n",
    "    # Play the game until the end of the episode\n",
    "    done = False\n",
    "    while not done:\n",
    "\n",
    "        # Collect a trajectory of states, actions, and rewards using the current policy\n",
    "        \n",
    "        # action_probs = model.actor(torch.tensor(state).float().unsqueeze(0)).squeeze(0)\n",
    "        # Collect a trajectory of states, actions, and rewards using the current policy\n",
    "        # state_list = [state[i] for i in range(len(state))]\n",
    "        # state = list(state) + [0]\n",
    "        # state_tensor = torch.tensor([state], dtype=torch.float32)\n",
    "\n",
    "        # state_tensor = torch.tensor(state, dtype=torch.float32).unsqueeze(0)\n",
    "        state_padded = state + [0]*(4-len(state))  # pad the state with zeros to make it of length 4\n",
    "   \n",
    "        state_tensor = torch.tensor(state_padded, dtype=torch.float32).unsqueeze(0)\n",
    "        action_probs = model.actor(state_tensor).squeeze(0)\n",
    "            \n",
    "        # action_probs = model.actor(state_tensor).squeeze(0)\n",
    "          \n",
    "        action_dist = Categorical(action_probs)\n",
    "        action = action_dist.sample().item()\n",
    "        next_state, reward, done, info = env.step(action)\n",
    "\n",
    "        # Store the trajectory\n",
    "        states.append(state)\n",
    "        actions.append(action)\n",
    "        rewards.append(reward)\n",
    "\n",
    "        # Update the state\n",
    "        state = next_state\n",
    "\n",
    "    # Calculate the advantages and discounted rewards\n",
    "    advantages = calculate_advantages(rewards, model.critic, gamma)\n",
    "    discounted_rewards = calculate_discounted_rewards(rewards, gamma)\n",
    "\n",
    "    # Convert the lists to tensors\n",
    "    states = torch.tensor(states).float()\n",
    "    actions = torch.tensor(actions)\n",
    "    advantages = torch.tensor(advantages)\n",
    "    discounted_rewards = torch.tensor(discounted_rewards)\n",
    "\n",
    "    # Calculate the actor and critic losses\n",
    "    action_probs = model.actor(states)\n",
    "    dist = Categorical(action_probs)\n",
    "    log_probs = dist.log_prob(actions)\n",
    "    actor_loss = -(log_probs * advantages).mean()\n",
    "    critic_loss = F.mse_loss(model.critic(states).squeeze(), discounted_rewards)\n",
    "\n",
    "    # Update the model parameters using backpropagation\n",
    "    loss = actor_loss + critic_loss\n",
    "    optimizer.zero_grad()\n",
    "    loss.backward()\n",
    "    optimizer.step()\n",
    "\n",
    "    # Print the episode number and score\n",
    "    score = sum(rewards)\n",
    "    print(f\"Episode: {episode}, Score: {score}\")\n",
    "\n",
    "    # Check if the game is solved\n",
    "    if score >= max_score:\n",
    "        print(f\"Game solved in {episode} episodes!\")\n",
    "        break\n",
    "\n",
    "# Evaluate model\n",
    "evaluate_model(model)"
   ]
  },
  {
   "cell_type": "code",
   "execution_count": null,
   "metadata": {},
   "outputs": [],
   "source": [
    "def evaluate_model(model):\n",
    "    num_episodes = 10\n",
    "    total_rewards = []\n",
    "    for i in range(num_episodes):\n",
    "        state = env.reset()\n",
    "        done = False\n",
    "        total_reward = 0\n",
    "        while not done:\n",
    "            state_tensor = torch.tensor(state, dtype=torch.float32).unsqueeze(0)\n",
    "            action_probs = model.actor(state_tensor).squeeze(0)\n",
    "            action = torch.argmax(action_probs).item()\n",
    "            next_state, reward, done, _ = env.step(action)\n",
    "            state = next_state\n",
    "            total_reward += reward\n",
    "        total_rewards.append(total_reward)\n",
    "    avg_reward = sum(total_rewards) / num_episodes\n",
    "    print(f\"Average reward per episode: {avg_reward}\")\n"
   ]
  },
  {
   "cell_type": "code",
   "execution_count": null,
   "metadata": {},
   "outputs": [],
   "source": [
    "def calculate_advantages(rewards, critic, gamma):\n",
    "    \"\"\"\n",
    "    Calculates the advantages given the rewards and critic network.\n",
    "\n",
    "    Args:\n",
    "        rewards (list): The rewards for each time step in the trajectory.\n",
    "        critic (nn.Module): The critic network.\n",
    "        gamma (float): The discount factor.\n",
    "\n",
    "    Returns:\n",
    "        advantages (list): The advantages for each time step in the trajectory.\n",
    "    \"\"\"\n",
    "    values = critic(torch.tensor(states, dtype=torch.float32))\n",
    "    next_values = torch.cat((critic(torch.tensor(next_states, dtype=torch.float32)), torch.tensor([[0.0]])), dim=0)\n",
    "    done_mask = torch.tensor(done, dtype=torch.float32)\n",
    "\n",
    "    target = rewards + (1 - done_mask) * gamma * next_values[1:]\n",
    "    td_error = target - values\n",
    "\n",
    "    advantages = []\n",
    "    advantage = 0.0\n",
    "    for t in reversed(range(len(rewards))):\n",
    "        advantage = td_error[t] + gamma * advantage * (1 - done_mask[t])\n",
    "        advantages.insert(0, advantage)\n",
    "\n",
    "    return advantages\n",
    "\n",
    "\n",
    "def calculate_discounted_rewards(rewards, gamma):\n",
    "    \"\"\"\n",
    "    Calculates the discounted rewards given the rewards and discount factor.\n",
    "\n",
    "    Args:\n",
    "        rewards (list): The rewards for each time step in the trajectory.\n",
    "        gamma (float): The discount factor.\n",
    "\n",
    "    Returns:\n",
    "        discounted_rewards (list): The discounted rewards for each time step in the trajectory.\n",
    "    \"\"\"\n",
    "    discounted_rewards = []\n",
    "    reward_sum = 0.0\n",
    "    for r in reversed(rewards):\n",
    "        reward_sum = r + gamma * reward_sum\n",
    "        discounted_rewards.insert(0, reward_sum)\n",
    "\n",
    "    return discounted_rewards\n"
   ]
  }
 ],
 "metadata": {
  "kernelspec": {
   "display_name": "base",
   "language": "python",
   "name": "python3"
  },
  "language_info": {
   "codemirror_mode": {
    "name": "ipython",
    "version": 3
   },
   "file_extension": ".py",
   "mimetype": "text/x-python",
   "name": "python",
   "nbconvert_exporter": "python",
   "pygments_lexer": "ipython3",
   "version": "3.10.9"
  },
  "orig_nbformat": 4,
  "vscode": {
   "interpreter": {
    "hash": "e7cb1b9ae4d417fedf7f40a8eec98f7cfbd359e096bd857395a915f4609834ce"
   }
  }
 },
 "nbformat": 4,
 "nbformat_minor": 2
}
